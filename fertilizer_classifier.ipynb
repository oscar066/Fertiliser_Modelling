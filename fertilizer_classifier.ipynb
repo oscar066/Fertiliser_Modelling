{
 "cells": [
  {
   "cell_type": "code",
   "execution_count": 1,
   "metadata": {},
   "outputs": [],
   "source": [
    "import pandas as pd\n",
    "import numpy as np\n",
    "import matplotlib.pyplot as plt\n",
    "import seaborn as sns\n",
    "\n",
    "from sklearn.preprocessing import StandardScaler, MinMaxScaler\n",
    "from sklearn.preprocessing import LabelEncoder\n",
    "from imblearn.over_sampling import SMOTE\n",
    "\n",
    "import joblib\n",
    "\n",
    "sns.set_style(\"darkgrid\")"
   ]
  },
  {
   "cell_type": "code",
   "execution_count": null,
   "metadata": {},
   "outputs": [
    {
     "data": {
      "text/html": [
       "<div>\n",
       "<style scoped>\n",
       "    .dataframe tbody tr th:only-of-type {\n",
       "        vertical-align: middle;\n",
       "    }\n",
       "\n",
       "    .dataframe tbody tr th {\n",
       "        vertical-align: top;\n",
       "    }\n",
       "\n",
       "    .dataframe thead th {\n",
       "        text-align: right;\n",
       "    }\n",
       "</style>\n",
       "<table border=\"1\" class=\"dataframe\">\n",
       "  <thead>\n",
       "    <tr style=\"text-align: right;\">\n",
       "      <th></th>\n",
       "      <th>simpliedtexture(1)</th>\n",
       "      <th>ph</th>\n",
       "      <th>n</th>\n",
       "      <th>p</th>\n",
       "      <th>k</th>\n",
       "      <th>o</th>\n",
       "      <th>ca</th>\n",
       "      <th>mg</th>\n",
       "      <th>cu</th>\n",
       "      <th>fe</th>\n",
       "      <th>zn</th>\n",
       "      <th>soilfertilitystatus</th>\n",
       "      <th>croprecommendation1</th>\n",
       "      <th>croprecommendation2</th>\n",
       "      <th>fertilizerrecommendation1</th>\n",
       "      <th>fertilizerrecommendation2</th>\n",
       "    </tr>\n",
       "  </thead>\n",
       "  <tbody>\n",
       "    <tr>\n",
       "      <th>0</th>\n",
       "      <td>19</td>\n",
       "      <td>-1.314042</td>\n",
       "      <td>-0.062645</td>\n",
       "      <td>-0.425646</td>\n",
       "      <td>-2.831822</td>\n",
       "      <td>-0.184988</td>\n",
       "      <td>-0.779966</td>\n",
       "      <td>1.032378</td>\n",
       "      <td>-0.999140</td>\n",
       "      <td>-1.895471</td>\n",
       "      <td>-0.244818</td>\n",
       "      <td>2</td>\n",
       "      <td>6</td>\n",
       "      <td>5</td>\n",
       "      <td>0</td>\n",
       "      <td>0</td>\n",
       "    </tr>\n",
       "    <tr>\n",
       "      <th>1</th>\n",
       "      <td>9</td>\n",
       "      <td>0.062819</td>\n",
       "      <td>-0.062645</td>\n",
       "      <td>0.867893</td>\n",
       "      <td>-2.374031</td>\n",
       "      <td>0.096363</td>\n",
       "      <td>-0.472312</td>\n",
       "      <td>0.816037</td>\n",
       "      <td>-0.999140</td>\n",
       "      <td>1.283516</td>\n",
       "      <td>-0.478647</td>\n",
       "      <td>0</td>\n",
       "      <td>3</td>\n",
       "      <td>0</td>\n",
       "      <td>0</td>\n",
       "      <td>0</td>\n",
       "    </tr>\n",
       "    <tr>\n",
       "      <th>2</th>\n",
       "      <td>17</td>\n",
       "      <td>0.407035</td>\n",
       "      <td>-0.035079</td>\n",
       "      <td>-0.377738</td>\n",
       "      <td>-1.951455</td>\n",
       "      <td>1.221765</td>\n",
       "      <td>-0.595373</td>\n",
       "      <td>1.681400</td>\n",
       "      <td>-0.999140</td>\n",
       "      <td>-1.895471</td>\n",
       "      <td>0.222838</td>\n",
       "      <td>0</td>\n",
       "      <td>3</td>\n",
       "      <td>0</td>\n",
       "      <td>0</td>\n",
       "      <td>0</td>\n",
       "    </tr>\n",
       "    <tr>\n",
       "      <th>3</th>\n",
       "      <td>9</td>\n",
       "      <td>0.062819</td>\n",
       "      <td>0.020055</td>\n",
       "      <td>1.083483</td>\n",
       "      <td>-1.669738</td>\n",
       "      <td>1.221765</td>\n",
       "      <td>0.142998</td>\n",
       "      <td>1.032378</td>\n",
       "      <td>-0.999140</td>\n",
       "      <td>0.261699</td>\n",
       "      <td>0.807409</td>\n",
       "      <td>0</td>\n",
       "      <td>3</td>\n",
       "      <td>0</td>\n",
       "      <td>0</td>\n",
       "      <td>0</td>\n",
       "    </tr>\n",
       "    <tr>\n",
       "      <th>4</th>\n",
       "      <td>3</td>\n",
       "      <td>0.062819</td>\n",
       "      <td>-0.062645</td>\n",
       "      <td>0.867893</td>\n",
       "      <td>-2.338816</td>\n",
       "      <td>1.362440</td>\n",
       "      <td>0.389122</td>\n",
       "      <td>-0.698348</td>\n",
       "      <td>-0.999140</td>\n",
       "      <td>0.602305</td>\n",
       "      <td>0.573581</td>\n",
       "      <td>0</td>\n",
       "      <td>3</td>\n",
       "      <td>0</td>\n",
       "      <td>0</td>\n",
       "      <td>0</td>\n",
       "    </tr>\n",
       "    <tr>\n",
       "      <th>5</th>\n",
       "      <td>18</td>\n",
       "      <td>0.062819</td>\n",
       "      <td>-0.021295</td>\n",
       "      <td>1.083483</td>\n",
       "      <td>-0.789372</td>\n",
       "      <td>1.081089</td>\n",
       "      <td>-0.103126</td>\n",
       "      <td>0.383356</td>\n",
       "      <td>-0.999140</td>\n",
       "      <td>-0.646583</td>\n",
       "      <td>2.502665</td>\n",
       "      <td>0</td>\n",
       "      <td>16</td>\n",
       "      <td>10</td>\n",
       "      <td>0</td>\n",
       "      <td>0</td>\n",
       "    </tr>\n",
       "    <tr>\n",
       "      <th>6</th>\n",
       "      <td>14</td>\n",
       "      <td>0.407035</td>\n",
       "      <td>-0.007512</td>\n",
       "      <td>0.604394</td>\n",
       "      <td>-2.690963</td>\n",
       "      <td>0.940414</td>\n",
       "      <td>0.081467</td>\n",
       "      <td>0.599696</td>\n",
       "      <td>0.029311</td>\n",
       "      <td>1.510587</td>\n",
       "      <td>-0.069447</td>\n",
       "      <td>0</td>\n",
       "      <td>5</td>\n",
       "      <td>6</td>\n",
       "      <td>0</td>\n",
       "      <td>1</td>\n",
       "    </tr>\n",
       "    <tr>\n",
       "      <th>7</th>\n",
       "      <td>3</td>\n",
       "      <td>0.062819</td>\n",
       "      <td>-0.035079</td>\n",
       "      <td>-0.425646</td>\n",
       "      <td>0.971361</td>\n",
       "      <td>-0.044313</td>\n",
       "      <td>-0.226188</td>\n",
       "      <td>-0.482007</td>\n",
       "      <td>1.571987</td>\n",
       "      <td>0.715840</td>\n",
       "      <td>1.976551</td>\n",
       "      <td>0</td>\n",
       "      <td>3</td>\n",
       "      <td>0</td>\n",
       "      <td>0</td>\n",
       "      <td>0</td>\n",
       "    </tr>\n",
       "    <tr>\n",
       "      <th>8</th>\n",
       "      <td>8</td>\n",
       "      <td>-0.109288</td>\n",
       "      <td>-0.048862</td>\n",
       "      <td>-1.264052</td>\n",
       "      <td>-0.789372</td>\n",
       "      <td>0.096363</td>\n",
       "      <td>-0.410781</td>\n",
       "      <td>1.032378</td>\n",
       "      <td>-0.999140</td>\n",
       "      <td>0.942910</td>\n",
       "      <td>1.567351</td>\n",
       "      <td>1</td>\n",
       "      <td>3</td>\n",
       "      <td>0</td>\n",
       "      <td>0</td>\n",
       "      <td>0</td>\n",
       "    </tr>\n",
       "    <tr>\n",
       "      <th>9</th>\n",
       "      <td>3</td>\n",
       "      <td>-0.453504</td>\n",
       "      <td>-0.062645</td>\n",
       "      <td>-0.353783</td>\n",
       "      <td>0.936146</td>\n",
       "      <td>0.237038</td>\n",
       "      <td>-0.903028</td>\n",
       "      <td>0.816037</td>\n",
       "      <td>-1.513365</td>\n",
       "      <td>1.283516</td>\n",
       "      <td>0.456667</td>\n",
       "      <td>1</td>\n",
       "      <td>8</td>\n",
       "      <td>3</td>\n",
       "      <td>0</td>\n",
       "      <td>1</td>\n",
       "    </tr>\n",
       "  </tbody>\n",
       "</table>\n",
       "</div>"
      ],
      "text/plain": [
       "   simpliedtexture(1)        ph         n         p         k         o  \\\n",
       "0                  19 -1.314042 -0.062645 -0.425646 -2.831822 -0.184988   \n",
       "1                   9  0.062819 -0.062645  0.867893 -2.374031  0.096363   \n",
       "2                  17  0.407035 -0.035079 -0.377738 -1.951455  1.221765   \n",
       "3                   9  0.062819  0.020055  1.083483 -1.669738  1.221765   \n",
       "4                   3  0.062819 -0.062645  0.867893 -2.338816  1.362440   \n",
       "5                  18  0.062819 -0.021295  1.083483 -0.789372  1.081089   \n",
       "6                  14  0.407035 -0.007512  0.604394 -2.690963  0.940414   \n",
       "7                   3  0.062819 -0.035079 -0.425646  0.971361 -0.044313   \n",
       "8                   8 -0.109288 -0.048862 -1.264052 -0.789372  0.096363   \n",
       "9                   3 -0.453504 -0.062645 -0.353783  0.936146  0.237038   \n",
       "\n",
       "         ca        mg        cu        fe        zn  soilfertilitystatus  \\\n",
       "0 -0.779966  1.032378 -0.999140 -1.895471 -0.244818                    2   \n",
       "1 -0.472312  0.816037 -0.999140  1.283516 -0.478647                    0   \n",
       "2 -0.595373  1.681400 -0.999140 -1.895471  0.222838                    0   \n",
       "3  0.142998  1.032378 -0.999140  0.261699  0.807409                    0   \n",
       "4  0.389122 -0.698348 -0.999140  0.602305  0.573581                    0   \n",
       "5 -0.103126  0.383356 -0.999140 -0.646583  2.502665                    0   \n",
       "6  0.081467  0.599696  0.029311  1.510587 -0.069447                    0   \n",
       "7 -0.226188 -0.482007  1.571987  0.715840  1.976551                    0   \n",
       "8 -0.410781  1.032378 -0.999140  0.942910  1.567351                    1   \n",
       "9 -0.903028  0.816037 -1.513365  1.283516  0.456667                    1   \n",
       "\n",
       "   croprecommendation1  croprecommendation2  fertilizerrecommendation1  \\\n",
       "0                    6                    5                          0   \n",
       "1                    3                    0                          0   \n",
       "2                    3                    0                          0   \n",
       "3                    3                    0                          0   \n",
       "4                    3                    0                          0   \n",
       "5                   16                   10                          0   \n",
       "6                    5                    6                          0   \n",
       "7                    3                    0                          0   \n",
       "8                    3                    0                          0   \n",
       "9                    8                    3                          0   \n",
       "\n",
       "   fertilizerrecommendation2  \n",
       "0                          0  \n",
       "1                          0  \n",
       "2                          0  \n",
       "3                          0  \n",
       "4                          0  \n",
       "5                          0  \n",
       "6                          1  \n",
       "7                          0  \n",
       "8                          0  \n",
       "9                          1  "
      ]
     },
     "execution_count": 2,
     "metadata": {},
     "output_type": "execute_result"
    }
   ],
   "source": [
    "# Load the preprocessed dataset \n",
    "\n",
    "df = pd.read_csv(\"/teamspace/studios/this_studio/Fertiliser_Modelling/data/preprocessed_data_for_fertilzer_classification.csv\")\n",
    "\n",
    "# Preview the first 10 rows of the data\n",
    "df.head(10)"
   ]
  },
  {
   "cell_type": "code",
   "execution_count": 3,
   "metadata": {},
   "outputs": [
    {
     "name": "stdout",
     "output_type": "stream",
     "text": [
      "<class 'pandas.core.frame.DataFrame'>\n",
      "RangeIndex: 1000 entries, 0 to 999\n",
      "Data columns (total 16 columns):\n",
      " #   Column                     Non-Null Count  Dtype  \n",
      "---  ------                     --------------  -----  \n",
      " 0   simpliedtexture(1)         1000 non-null   int64  \n",
      " 1   ph                         1000 non-null   float64\n",
      " 2   n                          1000 non-null   float64\n",
      " 3   p                          1000 non-null   float64\n",
      " 4   k                          1000 non-null   float64\n",
      " 5   o                          1000 non-null   float64\n",
      " 6   ca                         1000 non-null   float64\n",
      " 7   mg                         1000 non-null   float64\n",
      " 8   cu                         1000 non-null   float64\n",
      " 9   fe                         1000 non-null   float64\n",
      " 10  zn                         1000 non-null   float64\n",
      " 11  soilfertilitystatus        1000 non-null   int64  \n",
      " 12  croprecommendation1        1000 non-null   int64  \n",
      " 13  croprecommendation2        1000 non-null   int64  \n",
      " 14  fertilizerrecommendation1  1000 non-null   int64  \n",
      " 15  fertilizerrecommendation2  1000 non-null   int64  \n",
      "dtypes: float64(10), int64(6)\n",
      "memory usage: 125.1 KB\n"
     ]
    }
   ],
   "source": [
    "df.info()"
   ]
  },
  {
   "cell_type": "code",
   "execution_count": 4,
   "metadata": {},
   "outputs": [
    {
     "data": {
      "text/plain": [
       "fertilizerrecommendation2\n",
       "0    820\n",
       "1    180\n",
       "Name: count, dtype: int64"
      ]
     },
     "execution_count": 4,
     "metadata": {},
     "output_type": "execute_result"
    }
   ],
   "source": [
    "df['fertilizerrecommendation2'].value_counts()"
   ]
  },
  {
   "cell_type": "markdown",
   "metadata": {},
   "source": [
    "Checking at the distribution of the fertiliser there is need for us to balance the class will use SMOTE for that"
   ]
  },
  {
   "cell_type": "code",
   "execution_count": 5,
   "metadata": {},
   "outputs": [
    {
     "data": {
      "text/plain": [
       "Index(['simpliedtexture(1)', 'ph', 'n', 'p', 'k', 'o', 'ca', 'mg', 'cu', 'fe',\n",
       "       'zn', 'soilfertilitystatus', 'fertilizerrecommendation2'],\n",
       "      dtype='object')"
      ]
     },
     "execution_count": 5,
     "metadata": {},
     "output_type": "execute_result"
    }
   ],
   "source": [
    "df = df.drop(columns=['croprecommendation1', 'croprecommendation2', 'fertilizerrecommendation1'])\n",
    "df.columns"
   ]
  },
  {
   "cell_type": "code",
   "execution_count": 6,
   "metadata": {},
   "outputs": [],
   "source": [
    "# checking for class imbalance\n",
    "\n",
    "def balance_with_smote(df: pd.DataFrame, target_column: str):\n",
    "    \"\"\"\n",
    "    Apply SMOTE to balance the dataset.\n",
    "\n",
    "    Parameters:\n",
    "        df (pd.DataFrame): Input DataFrame (encoded and scaled).\n",
    "        target_column (str): Name of the target column.\n",
    "\n",
    "    Returns:\n",
    "        X_resampled (pd.DataFrame): Resampled feature set.\n",
    "        y_resampled (pd.Series): Resampled target column.\n",
    "    \"\"\"\n",
    "    X = df.drop(columns=[target_column])\n",
    "    y = df[target_column]\n",
    "\n",
    "    smote = SMOTE(random_state=142)\n",
    "    X_resampled, y_resampled = smote.fit_resample(X, y)\n",
    "\n",
    "    # Convert back to DataFrame\n",
    "    X_resampled = pd.DataFrame(X_resampled, columns=X.columns)\n",
    "    y_resampled = pd.Series(y_resampled, name=target_column)\n",
    "\n",
    "    return X_resampled, y_resampled"
   ]
  },
  {
   "cell_type": "code",
   "execution_count": 7,
   "metadata": {},
   "outputs": [],
   "source": [
    "X_balanced, y_balanced =balance_with_smote(df = df, target_column = \"fertilizerrecommendation2\")"
   ]
  },
  {
   "cell_type": "code",
   "execution_count": 8,
   "metadata": {},
   "outputs": [
    {
     "name": "stdout",
     "output_type": "stream",
     "text": [
      "X columns used: \n",
      " Index(['simpliedtexture(1)', 'ph', 'n', 'p', 'k', 'o', 'ca', 'mg', 'cu', 'fe',\n",
      "       'zn', 'soilfertilitystatus'],\n",
      "      dtype='object')\n",
      "\n",
      "y target columns: fertilizerrecommendation2\n"
     ]
    }
   ],
   "source": [
    "print(f\"X columns used: \\n\", X_balanced.columns)\n",
    "print(f\"\\ny target columns:\", y_balanced.name)"
   ]
  },
  {
   "cell_type": "code",
   "execution_count": 9,
   "metadata": {},
   "outputs": [
    {
     "data": {
      "text/plain": [
       "fertilizerrecommendation2\n",
       "0    820\n",
       "1    820\n",
       "Name: count, dtype: int64"
      ]
     },
     "execution_count": 9,
     "metadata": {},
     "output_type": "execute_result"
    }
   ],
   "source": [
    "y_balanced.value_counts()"
   ]
  },
  {
   "cell_type": "markdown",
   "metadata": {},
   "source": [
    "Now we can see the dataset is balanced "
   ]
  },
  {
   "cell_type": "code",
   "execution_count": 10,
   "metadata": {},
   "outputs": [],
   "source": [
    "from sklearn.model_selection import train_test_split\n",
    "\n",
    "# splitting the dataset into train and test sets\n",
    "X_train, X_test, y_train, y_test = train_test_split(X_balanced, y_balanced, test_size=0.25, random_state=43)"
   ]
  },
  {
   "cell_type": "markdown",
   "metadata": {},
   "source": [
    "#### 1. Baseline Model"
   ]
  },
  {
   "cell_type": "code",
   "execution_count": 11,
   "metadata": {},
   "outputs": [],
   "source": [
    "# Model libraries\n",
    "from sklearn.linear_model import LogisticRegression\n",
    "from sklearn.multiclass import OneVsRestClassifier\n",
    "from sklearn.svm import LinearSVC\n",
    "from sklearn.tree import DecisionTreeClassifier\n",
    "from sklearn.ensemble import RandomForestClassifier\n",
    "from sklearn.ensemble import GradientBoostingClassifier\n",
    "\n",
    "# model metrics libraries\n",
    "\n",
    "from sklearn.metrics import accuracy_score, precision_score, recall_score, f1_score, roc_auc_score, confusion_matrix, classification_report"
   ]
  },
  {
   "cell_type": "code",
   "execution_count": 12,
   "metadata": {},
   "outputs": [],
   "source": [
    "# Logistic regression model\n",
    "log_reg = LogisticRegression(random_state=42)\n",
    "\n",
    "# Fit the dataset\n",
    "log_reg.fit(X_train, y_train)\n",
    "\n",
    "# predict on the Test set\n",
    "y_pred_log_reg = log_reg.predict(X_test)"
   ]
  },
  {
   "cell_type": "code",
   "execution_count": 13,
   "metadata": {},
   "outputs": [
    {
     "name": "stdout",
     "output_type": "stream",
     "text": [
      "Logistic Regression:\n",
      "Accuracy: 0.7707\n",
      "Precision: 0.7992\n",
      "Recall: 0.7737\n",
      "F1 Score: 0.7664\n"
     ]
    }
   ],
   "source": [
    "# Model Evaluation for Logistic Regression\n",
    "print(\"Logistic Regression:\")\n",
    "\n",
    "# Accuracy is the ratio of correctly predicted observation to the total observations.\n",
    "print(f\"Accuracy: {accuracy_score(y_test, y_pred_log_reg):.4f}\")\n",
    "\n",
    "# Precision is the ratio of correctly predicted positive observations to the total predicted positives.\n",
    "print(f\"Precision: {precision_score(y_test, y_pred_log_reg, average='macro'):.4f}\")\n",
    "\n",
    "# Recall (Sensitivity) is the ratio of correctly predicted positive observations to the all observations in actual class.\n",
    "print(f\"Recall: {recall_score(y_test, y_pred_log_reg, average='macro'):.4f}\")\n",
    "\n",
    "# F1 Score is the weighted average of Precision and Recall. Therefore, this score takes both false positives and false negatives into account.\n",
    "print(f\"F1 Score: {f1_score(y_test, y_pred_log_reg, average='macro'):.4f}\")"
   ]
  },
  {
   "cell_type": "code",
   "execution_count": 14,
   "metadata": {},
   "outputs": [
    {
     "name": "stdout",
     "output_type": "stream",
     "text": [
      "Classification report:\n",
      "               precision    recall  f1-score   support\n",
      "\n",
      "           0       0.90      0.62      0.73       209\n",
      "           1       0.70      0.93      0.80       201\n",
      "\n",
      "    accuracy                           0.77       410\n",
      "   macro avg       0.80      0.77      0.77       410\n",
      "weighted avg       0.80      0.77      0.77       410\n",
      "\n"
     ]
    }
   ],
   "source": [
    "print(\"Classification report:\\n\", classification_report(y_test, y_pred_log_reg))"
   ]
  },
  {
   "cell_type": "code",
   "execution_count": null,
   "metadata": {},
   "outputs": [
    {
     "data": {
      "image/png": "[encoded data removed]",
      "text/plain": [
       "<Figure size 640x480 with 2 Axes>"
      ]
     },
     "metadata": {},
     "output_type": "display_data"
    }
   ],
   "source": [
    "from sklearn.metrics import confusion_matrix, ConfusionMatrixDisplay\n",
    "\n",
    "cm = confusion_matrix(y_test, y_pred_log_reg, labels=log_reg.classes_)\n",
    "disp = ConfusionMatrixDisplay(confusion_matrix=cm, display_labels=log_reg.classes_)\n",
    "disp.plot(cmap='Greens')\n",
    "plt.xticks(rotation=90)\n",
    "\n",
    "# Saving the plot\n",
    "plot_path = 'eda_charts/models_evals/fertilize_log_reg_confusion_matrix.png'\n",
    "plt.savefig(plot_path)"
   ]
  },
  {
   "cell_type": "markdown",
   "metadata": {},
   "source": [
    "#### 2. Decison Tree Model"
   ]
  },
  {
   "cell_type": "code",
   "execution_count": 16,
   "metadata": {},
   "outputs": [],
   "source": [
    "# decision trees\n",
    "from sklearn.tree import DecisionTreeClassifier\n",
    "\n",
    "dtree = DecisionTreeClassifier(random_state=42)\n",
    "dtree.fit(X_train, y_train)\n",
    "\n",
    "y_pred_tree = dtree.predict(X_test)"
   ]
  },
  {
   "cell_type": "code",
   "execution_count": 17,
   "metadata": {},
   "outputs": [
    {
     "name": "stdout",
     "output_type": "stream",
     "text": [
      "Decision tree classifier:\n",
      "Accuracy: 0.8512\n",
      "Precision: 0.8514\n",
      "Recall: 0.8515\n",
      "F1 Score: 0.8512\n"
     ]
    }
   ],
   "source": [
    "print(\"Decision tree classifier:\")\n",
    "\n",
    "# Accuracy is the proportion of true results (both true positives and true negatives) among the total number of cases examined.\n",
    "print(f\"Accuracy: {accuracy_score(y_test, y_pred_tree):.4f}\")\n",
    "\n",
    "# Precision is the ratio of correctly predicted positive observations to the total predicted positives.\n",
    "print(f\"Precision: {precision_score(y_test, y_pred_tree, average='macro'):.4f}\")\n",
    "\n",
    "# Recall (Sensitivity) is the ratio of correctly predicted positive observations to the all observations in actual class.\n",
    "print(f\"Recall: {recall_score(y_test, y_pred_tree, average='macro'):.4f}\")\n",
    "\n",
    "# F1 Score is the weighted average of Precision and Recall.\n",
    "print(f\"F1 Score: {f1_score(y_test, y_pred_tree, average='macro'):.4f}\")"
   ]
  },
  {
   "cell_type": "code",
   "execution_count": null,
   "metadata": {},
   "outputs": [
    {
     "name": "stdout",
     "output_type": "stream",
     "text": [
      "Classification report:\n",
      "               precision    recall  f1-score   support\n",
      "\n",
      "           0       0.87      0.84      0.85       209\n",
      "           1       0.84      0.87      0.85       201\n",
      "\n",
      "    accuracy                           0.85       410\n",
      "   macro avg       0.85      0.85      0.85       410\n",
      "weighted avg       0.85      0.85      0.85       410\n",
      "\n"
     ]
    }
   ],
   "source": [
    "print(\"Classification report:\\n\", classification_report(y_test, y_pred_tree))"
   ]
  },
  {
   "cell_type": "code",
   "execution_count": null,
   "metadata": {},
   "outputs": [
    {
     "data": {
      "image/png": "[encoded data removed]",
      "text/plain": [
       "<Figure size 640x480 with 2 Axes>"
      ]
     },
     "metadata": {},
     "output_type": "display_data"
    }
   ],
   "source": [
    "from sklearn.metrics import confusion_matrix, ConfusionMatrixDisplay\n",
    "\n",
    "cm = confusion_matrix(y_test, y_pred_tree, labels=dtree.classes_)\n",
    "disp = ConfusionMatrixDisplay(confusion_matrix=cm, display_labels=dtree.classes_)\n",
    "disp.plot(cmap='Greens')\n",
    "plt.xticks(rotation=90)\n",
    "\n",
    "# Saving the plot\n",
    "plot_path = 'eda_charts/models_evals/fertiliser_decision_tree_confusion_matrix.png'\n",
    "plt.savefig(plot_path)\n",
    "\n",
    "plt.show()"
   ]
  },
  {
   "cell_type": "code",
   "execution_count": 20,
   "metadata": {},
   "outputs": [
    {
     "name": "stdout",
     "output_type": "stream",
     "text": [
      "Decision Tree Classifier models saved to: models/Fertiliser_decisionTree_Classifier_model\n"
     ]
    }
   ],
   "source": [
    "# Save the model to a file\n",
    "joblib.dump(dtree, 'models/Fertilizer_decisionTree_Classifier_model.joblib')\n",
    "\n",
    "print(\"Decision Tree Classifier models saved to: models/Fertiliser_decisionTree_Classifier_model\")"
   ]
  },
  {
   "cell_type": "markdown",
   "metadata": {},
   "source": [
    "#### 3. Random Forest"
   ]
  },
  {
   "cell_type": "code",
   "execution_count": 21,
   "metadata": {},
   "outputs": [],
   "source": [
    "# Random forest classifier\n",
    "# Initialize the Random Forest Classifier\n",
    "rf = RandomForestClassifier(random_state=142)\n",
    "\n",
    "# Fit the model\n",
    "rf.fit(X_train, y_train)\n",
    "\n",
    "# Make predictions on test set\n",
    "y_pred_rf = rf.predict(X_test)"
   ]
  },
  {
   "cell_type": "code",
   "execution_count": null,
   "metadata": {},
   "outputs": [
    {
     "name": "stdout",
     "output_type": "stream",
     "text": [
      "\n",
      "Random Forest:\n",
      "Accuracy: 0.8609756097560975\n",
      "Precision: 0.8631\n",
      "Recall: 0.8617\n",
      "F1 Score: 0.8609\n"
     ]
    }
   ],
   "source": [
    "# Model Evaluation for Random Forest\n",
    "print(\"\\nRandom Forest:\")\n",
    "\n",
    "# Accuracy is the proportion of true results (both true positives and true negatives) among the total number of cases examined.\n",
    "print(f\"Accuracy: {accuracy_score(y_test, y_pred_rf)}\")\n",
    "\n",
    "# Precision is the ratio of correctly predicted positive observations to the total predicted positives.\n",
    "print(f\"Precision: {precision_score(y_test, y_pred_rf, average='macro'):.4f}\")\n",
    "\n",
    "# Recall (Sensitivity) is the ratio of correctly predicted positive observations to the all observations in actual class.\n",
    "print(f\"Recall: {recall_score(y_test, y_pred_rf, average='macro'):.4f}\")\n",
    "\n",
    "# F1 Score is the weighted average of Precision and Recall. It tries to find the balance between precision and recall.\n",
    "print(f\"F1 Score: {f1_score(y_test, y_pred_rf, average='macro'):.4f}\")"
   ]
  },
  {
   "cell_type": "code",
   "execution_count": 23,
   "metadata": {},
   "outputs": [
    {
     "name": "stdout",
     "output_type": "stream",
     "text": [
      "Classification report:\n",
      "               precision    recall  f1-score   support\n",
      "\n",
      "           0       0.90      0.82      0.86       209\n",
      "           1       0.83      0.90      0.86       201\n",
      "\n",
      "    accuracy                           0.86       410\n",
      "   macro avg       0.86      0.86      0.86       410\n",
      "weighted avg       0.86      0.86      0.86       410\n",
      "\n"
     ]
    }
   ],
   "source": [
    "print(\"Classification report:\\n\", classification_report(y_test, y_pred_rf))"
   ]
  },
  {
   "cell_type": "code",
   "execution_count": 24,
   "metadata": {},
   "outputs": [
    {
     "data": {
      "image/png": "[encoded data removed]",
      "text/plain": [
       "<Figure size 640x480 with 2 Axes>"
      ]
     },
     "metadata": {},
     "output_type": "display_data"
    }
   ],
   "source": [
    "from sklearn.metrics import confusion_matrix, ConfusionMatrixDisplay\n",
    "\n",
    "cm = confusion_matrix(y_test, y_pred_rf, labels=rf.classes_)\n",
    "disp = ConfusionMatrixDisplay(confusion_matrix=cm, display_labels=rf.classes_)\n",
    "disp.plot(cmap='Greens')\n",
    "plt.xticks(rotation=90)\n",
    "\n",
    "# Saving the plot\n",
    "plot_path = 'eda_charts/models_evals/Fertiliser_random_forest_confusion_matrix.png'\n",
    "plt.savefig(plot_path)\n",
    "\n",
    "plt.show()"
   ]
  },
  {
   "cell_type": "code",
   "execution_count": 25,
   "metadata": {},
   "outputs": [
    {
     "name": "stdout",
     "output_type": "stream",
     "text": [
      "Random Forest Classifier saved to: models/Fertiliser_randomForest_Classifier\n"
     ]
    }
   ],
   "source": [
    "# Save the model to a file\n",
    "joblib.dump(rf, \"models/Fertilizer_randomForest_Classifier_Model.joblib\")\n",
    "\n",
    "print(\"Random Forest Classifier saved to: models/Fertiliser_randomForest_Classifier\")"
   ]
  },
  {
   "cell_type": "markdown",
   "metadata": {},
   "source": [
    "#### 4. Gradient Boosting Machine"
   ]
  },
  {
   "cell_type": "code",
   "execution_count": 26,
   "metadata": {},
   "outputs": [],
   "source": [
    "from xgboost import XGBClassifier"
   ]
  },
  {
   "cell_type": "code",
   "execution_count": 27,
   "metadata": {},
   "outputs": [],
   "source": [
    "# xg boost\n",
    "\n",
    "# initialise the model\n",
    "xgb = XGBClassifier(random_state=142)\n",
    "\n",
    "# Fit the model\n",
    "xgb.fit(X_train, y_train)\n",
    "\n",
    "# predict the test set\n",
    "y_pred_xgb = xgb.predict(X_test)"
   ]
  },
  {
   "cell_type": "code",
   "execution_count": null,
   "metadata": {},
   "outputs": [
    {
     "name": "stdout",
     "output_type": "stream",
     "text": [
      "\n",
      "Gradient Boosting Machine (XGBoost):\n",
      "Accuracy: 0.8878\n",
      "Precision: 0.8881\n",
      "Recall: 0.8881\n",
      "F1 Score: 0.8878\n"
     ]
    }
   ],
   "source": [
    "# Model Evaluation for XGBoost\n",
    "print(\"\\nGradient Boosting Machine (XGBoost):\")\n",
    "\n",
    "print(f\"Accuracy: {accuracy_score(y_test, y_pred_xgb):.4f}\")\n",
    "\n",
    "print(f\"Precision: {precision_score(y_test, y_pred_xgb, average='macro'):.4f}\")\n",
    "\n",
    "print(f\"Recall: {recall_score(y_test, y_pred_xgb, average='macro'):.4f}\")\n",
    "\n",
    "print(f\"F1 Score: {f1_score(y_test, y_pred_xgb, average='macro'):.4f}\")"
   ]
  },
  {
   "cell_type": "code",
   "execution_count": null,
   "metadata": {},
   "outputs": [
    {
     "name": "stdout",
     "output_type": "stream",
     "text": [
      "Classification report:\n",
      "               precision    recall  f1-score   support\n",
      "\n",
      "           0       0.91      0.87      0.89       209\n",
      "           1       0.87      0.91      0.89       201\n",
      "\n",
      "    accuracy                           0.89       410\n",
      "   macro avg       0.89      0.89      0.89       410\n",
      "weighted avg       0.89      0.89      0.89       410\n",
      "\n"
     ]
    }
   ],
   "source": [
    "print(\"Classification report:\\n\", classification_report(y_test, y_pred_xgb))"
   ]
  },
  {
   "cell_type": "code",
   "execution_count": null,
   "metadata": {},
   "outputs": [
    {
     "data": {
      "image/png": "[encoded data removed]",
      "text/plain": [
       "<Figure size 640x480 with 2 Axes>"
      ]
     },
     "metadata": {},
     "output_type": "display_data"
    }
   ],
   "source": [
    "from sklearn.metrics import confusion_matrix, ConfusionMatrixDisplay\n",
    "\n",
    "cm = confusion_matrix(y_test, y_pred_xgb, labels=xgb.classes_)\n",
    "disp = ConfusionMatrixDisplay(confusion_matrix=cm, display_labels=xgb.classes_)\n",
    "disp.plot(cmap='Greens')\n",
    "plt.xticks(rotation=90)\n",
    "\n",
    "# Saving the plot\n",
    "plot_path = 'eda_charts/models_evals/Fertiliser_xgboost_confusion_matrix.png'\n",
    "plt.savefig(plot_path)\n",
    "\n",
    "plt.show()"
   ]
  },
  {
   "cell_type": "code",
   "execution_count": 31,
   "metadata": {},
   "outputs": [
    {
     "name": "stdout",
     "output_type": "stream",
     "text": [
      "Gradient Boosting Classifier saved to: models/Fertiliser_xgboost_Classifier\n"
     ]
    }
   ],
   "source": [
    "# Save the model to a file\n",
    "joblib.dump(rf, \"models/Fertilizers_xgb_Classifier_Model.joblib\")\n",
    "\n",
    "print(\"Gradient Boosting Classifier saved to: models/Fertiliser_xgboost_Classifier\")"
   ]
  },
  {
   "cell_type": "code",
   "execution_count": null,
   "metadata": {},
   "outputs": [],
   "source": []
  }
 ],
 "metadata": {
  "language_info": {
   "name": "python"
  }
 },
 "nbformat": 4,
 "nbformat_minor": 2
}
